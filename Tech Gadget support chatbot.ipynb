{
 "cells": [
  {
   "cell_type": "markdown",
   "id": "82ae735a-881a-4eca-a143-e662f662422f",
   "metadata": {
    "jp-MarkdownHeadingCollapsed": true
   },
   "source": [
    "<!-- Create A Tech Gadget Customer Support Chatbot\r\n",
    "Imagine you own an online store that sells various tech gadgets. You often receive common questions regarding product specifications, return policies, shipping methods, and technical troubleshooting. To streamline customer support and provide immediate assistance, you decide to implement a simple chatbot.\r\n",
    "\r\n",
    "In this exercise you will use Amazon SageMaker to create a chatbot that can respond to customer inquiries about:\r\n",
    "\r\n",
    "Product Information (e.g., \"Tell me about product X\", \"Do you have smartwatches?\")\r\n",
    "Shipping Details (e.g., \"How long does shipping take?\", \"What shipping methods are available?\")\r\n",
    "Return Policy (e.g., \"What is your return policy?\", \"How do I return a product?\")\r\n",
    "Technical Support (e.g., \"My gadget won’t turn on\", \"How do I reset my device?\")\r\n",
    "What Your Chatbot Can Do\r\n",
    "The chatbot should be able to:\r\n",
    "\r\n",
    "Greet the user.\r\n",
    "Understand and respond to specific questions about products, shipping, returns, and support.\r\n",
    "Provide a default response for unrecognized queries.\r\n",
    "Politely end the --> conversation.\r\n"
   ]
  },
  {
   "cell_type": "code",
   "execution_count": 1,
   "id": "fbe8db12-5bb7-4e69-93b2-44b15a3115ef",
   "metadata": {},
   "outputs": [],
   "source": [
    "responses = {\n",
    "    \"hi\": \"Hello! Welcome to TechGadget Support. How can I assist you today?\",\n",
    "    \"do you have smartwatches\": \"Yes, we have a variety of smartwatches. You can check them out on our products page.\",\n",
    "    \"shipping time\": \"Shipping usually takes 3-5 business days.\",\n",
    "    \"shipping methods\": \"We offer standard, expedited, and overnight shipping.\",\n",
    "    \"return policy\": \"You can return products within 30 days of receipt for a full refund.\",\n",
    "    \"how to return\": \"To return a product, please visit our returns page for a step-by-step guide.\",\n",
    "    \"won’t turn on\": \"Make sure your gadget is charged. If it still won’t turn on, you can visit our troubleshooting page.\",\n",
    "    \"reset device\": \"To reset your device, hold down the power button for 10 seconds. If that doesn't work, please check the manual for a factory reset.\",\n",
    "    \"bye\": \"Thank you for visiting TechGadget. If you have more questions, feel free to ask. Goodbye!\",\n",
    "    \"what do you have today\":\"we have alot installed for you. Let me walk you through our products\"\n",
    "}"
   ]
  },
  {
   "cell_type": "code",
   "execution_count": 2,
   "id": "e3a0a039-399b-4395-8d90-8d542c5a4e26",
   "metadata": {},
   "outputs": [],
   "source": [
    "# %%timeit\n",
    "def get_bot_response(user_input):\n",
    "    user_input = user_input.lower()\n",
    "    \n",
    "    for keyword, response in responses.items():\n",
    "        if keyword in user_input:\n",
    "            return response\n",
    "        \n",
    "    return \"I'm not sure how to respond to that. Can you try asking something else\"\n"
   ]
  },
  {
   "cell_type": "code",
   "execution_count": 3,
   "id": "6d85f7ff-bce9-42d0-9dbc-671dbe5f1cfc",
   "metadata": {},
   "outputs": [
    {
     "name": "stdin",
     "output_type": "stream",
     "text": [
      "You:  hi\n"
     ]
    },
    {
     "name": "stdout",
     "output_type": "stream",
     "text": [
      "Bot: Hello! Welcome to TechGadget Support. How can I assist you today?\n"
     ]
    },
    {
     "name": "stdin",
     "output_type": "stream",
     "text": [
      "You:  what do you have today\n"
     ]
    },
    {
     "name": "stdout",
     "output_type": "stream",
     "text": [
      "Bot: we have alot installed for you. Let me walk you through our products\n"
     ]
    },
    {
     "name": "stdin",
     "output_type": "stream",
     "text": [
      "You:  do you have smartwatches\n"
     ]
    },
    {
     "name": "stdout",
     "output_type": "stream",
     "text": [
      "Bot: Yes, we have a variety of smartwatches. You can check them out on our products page.\n"
     ]
    },
    {
     "name": "stdin",
     "output_type": "stream",
     "text": [
      "You:  end\n"
     ]
    },
    {
     "name": "stdout",
     "output_type": "stream",
     "text": [
      "Bot: Goodbye if you have any more questions, we're here to help\n"
     ]
    }
   ],
   "source": [
    "while True:\n",
    "    user_input = input(\"You: \")\n",
    "    if user_input.lower() in [\"quit\", \"exit\", \"end\", \"bye\"]:\n",
    "        print(\"Bot: Goodbye if you have any more questions, we're here to help\")\n",
    "        break\n",
    "    \n",
    "    response = get_bot_response(user_input)\n",
    "    print(f\"Bot: {response}\")"
   ]
  },
  {
   "cell_type": "code",
   "execution_count": null,
   "id": "b0e9f5a5-2a27-4a7d-9d53-0c74e8fa3999",
   "metadata": {},
   "outputs": [],
   "source": []
  }
 ],
 "metadata": {
  "kernelspec": {
   "display_name": "Python 3 (ipykernel)",
   "language": "python",
   "name": "python3"
  },
  "language_info": {
   "codemirror_mode": {
    "name": "ipython",
    "version": 3
   },
   "file_extension": ".py",
   "mimetype": "text/x-python",
   "name": "python",
   "nbconvert_exporter": "python",
   "pygments_lexer": "ipython3",
   "version": "3.11.4"
  }
 },
 "nbformat": 4,
 "nbformat_minor": 5
}
